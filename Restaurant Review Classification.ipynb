{
 "cells": [
  {
   "cell_type": "markdown",
   "id": "38ce4929",
   "metadata": {
    "colab_type": "text",
    "id": "NvUGC8QQV6bV"
   },
   "source": [
    "# Importing the libraries"
   ]
  },
  {
   "cell_type": "code",
   "execution_count": 1,
   "id": "aaf6fdb2",
   "metadata": {
    "colab": {},
    "colab_type": "code",
    "id": "wfFEXZC0WS-V"
   },
   "outputs": [],
   "source": [
    "# Visualisation and dataframes\n",
    "import numpy as np\n",
    "import pandas as pd\n",
    "import seaborn as sns\n",
    "import matplotlib.pyplot as plt\n",
    "%matplotlib inline\n",
    "\n",
    "\n",
    "# Text Preprocessing\n",
    "import re\n",
    "import nltk\n",
    "import unicodedata\n",
    "from bs4 import BeautifulSoup\n",
    "from textblob import TextBlob\n",
    "from nltk.corpus import stopwords\n",
    "from nltk.stem import PorterStemmer, WordNetLemmatizer\n",
    "\n",
    "\n",
    "# Vectorization and train-test-split\n",
    "from sklearn.model_selection import train_test_split\n",
    "from sklearn.feature_extraction.text import TfidfVectorizer, CountVectorizer\n",
    "\n",
    "\n",
    "# Classification Models\n",
    "from sklearn.linear_model import LogisticRegression\n",
    "from sklearn.naive_bayes import GaussianNB\n",
    "from sklearn.svm import SVC\n",
    "from sklearn.ensemble import RandomForestClassifier\n",
    "\n",
    "\n",
    "# metrics\n",
    "from sklearn import metrics\n",
    "from sklearn.metrics import accuracy_score\n",
    "from sklearn.metrics import plot_confusion_matrix\n",
    "\n",
    "\n",
    "# Others\n",
    "import warnings\n",
    "from collections import Counter\n",
    "from wordcloud import WordCloud\n",
    "\n",
    "warnings.filterwarnings('ignore')\n",
    "pd.pandas.set_option('display.max_colwidth',None)"
   ]
  },
  {
   "cell_type": "markdown",
   "id": "d5a87ecd",
   "metadata": {
    "colab_type": "text",
    "id": "fhYaZ-ENV_c5"
   },
   "source": [
    "# Importing the dataset"
   ]
  },
  {
   "cell_type": "code",
   "execution_count": 2,
   "id": "7551ca76",
   "metadata": {
    "colab": {},
    "colab_type": "code",
    "id": "aqHTg9bxWT_u"
   },
   "outputs": [],
   "source": [
    "df = pd.read_csv('Restaurant_Reviews.tsv', header = 0, delimiter='\\t', quoting = 3)"
   ]
  },
  {
   "cell_type": "code",
   "execution_count": 3,
   "id": "8ad45a74",
   "metadata": {},
   "outputs": [
    {
     "data": {
      "text/plain": [
       "(1000, 2)"
      ]
     },
     "execution_count": 3,
     "metadata": {},
     "output_type": "execute_result"
    }
   ],
   "source": [
    "df.shape"
   ]
  },
  {
   "cell_type": "code",
   "execution_count": 4,
   "id": "2f8ef0b6",
   "metadata": {},
   "outputs": [
    {
     "data": {
      "text/html": [
       "<div>\n",
       "<style scoped>\n",
       "    .dataframe tbody tr th:only-of-type {\n",
       "        vertical-align: middle;\n",
       "    }\n",
       "\n",
       "    .dataframe tbody tr th {\n",
       "        vertical-align: top;\n",
       "    }\n",
       "\n",
       "    .dataframe thead th {\n",
       "        text-align: right;\n",
       "    }\n",
       "</style>\n",
       "<table border=\"1\" class=\"dataframe\">\n",
       "  <thead>\n",
       "    <tr style=\"text-align: right;\">\n",
       "      <th></th>\n",
       "      <th>Review</th>\n",
       "      <th>Liked</th>\n",
       "    </tr>\n",
       "  </thead>\n",
       "  <tbody>\n",
       "    <tr>\n",
       "      <th>0</th>\n",
       "      <td>Wow... Loved this place.</td>\n",
       "      <td>1</td>\n",
       "    </tr>\n",
       "    <tr>\n",
       "      <th>1</th>\n",
       "      <td>Crust is not good.</td>\n",
       "      <td>0</td>\n",
       "    </tr>\n",
       "    <tr>\n",
       "      <th>2</th>\n",
       "      <td>Not tasty and the texture was just nasty.</td>\n",
       "      <td>0</td>\n",
       "    </tr>\n",
       "    <tr>\n",
       "      <th>3</th>\n",
       "      <td>Stopped by during the late May bank holiday off Rick Steve recommendation and loved it.</td>\n",
       "      <td>1</td>\n",
       "    </tr>\n",
       "    <tr>\n",
       "      <th>4</th>\n",
       "      <td>The selection on the menu was great and so were the prices.</td>\n",
       "      <td>1</td>\n",
       "    </tr>\n",
       "    <tr>\n",
       "      <th>5</th>\n",
       "      <td>Now I am getting angry and I want my damn pho.</td>\n",
       "      <td>0</td>\n",
       "    </tr>\n",
       "    <tr>\n",
       "      <th>6</th>\n",
       "      <td>Honeslty it didn't taste THAT fresh.)</td>\n",
       "      <td>0</td>\n",
       "    </tr>\n",
       "    <tr>\n",
       "      <th>7</th>\n",
       "      <td>The potatoes were like rubber and you could tell they had been made up ahead of time being kept under a warmer.</td>\n",
       "      <td>0</td>\n",
       "    </tr>\n",
       "    <tr>\n",
       "      <th>8</th>\n",
       "      <td>The fries were great too.</td>\n",
       "      <td>1</td>\n",
       "    </tr>\n",
       "    <tr>\n",
       "      <th>9</th>\n",
       "      <td>A great touch.</td>\n",
       "      <td>1</td>\n",
       "    </tr>\n",
       "  </tbody>\n",
       "</table>\n",
       "</div>"
      ],
      "text/plain": [
       "                                                                                                            Review  \\\n",
       "0                                                                                         Wow... Loved this place.   \n",
       "1                                                                                               Crust is not good.   \n",
       "2                                                                        Not tasty and the texture was just nasty.   \n",
       "3                          Stopped by during the late May bank holiday off Rick Steve recommendation and loved it.   \n",
       "4                                                      The selection on the menu was great and so were the prices.   \n",
       "5                                                                   Now I am getting angry and I want my damn pho.   \n",
       "6                                                                            Honeslty it didn't taste THAT fresh.)   \n",
       "7  The potatoes were like rubber and you could tell they had been made up ahead of time being kept under a warmer.   \n",
       "8                                                                                        The fries were great too.   \n",
       "9                                                                                                   A great touch.   \n",
       "\n",
       "   Liked  \n",
       "0      1  \n",
       "1      0  \n",
       "2      0  \n",
       "3      1  \n",
       "4      1  \n",
       "5      0  \n",
       "6      0  \n",
       "7      0  \n",
       "8      1  \n",
       "9      1  "
      ]
     },
     "execution_count": 4,
     "metadata": {},
     "output_type": "execute_result"
    }
   ],
   "source": [
    "df.head(10)"
   ]
  },
  {
   "cell_type": "markdown",
   "id": "c33b4997",
   "metadata": {},
   "source": [
    "# Text Cleaning and Pre-processing"
   ]
  },
  {
   "cell_type": "markdown",
   "id": "48a54728",
   "metadata": {},
   "source": [
    "In this section, we remove the special characters, accented characters, punctuations, numbers, stopwords, extra spaces etc."
   ]
  },
  {
   "cell_type": "code",
   "execution_count": 5,
   "id": "4d3b1958",
   "metadata": {},
   "outputs": [],
   "source": [
    "# function to pre-process the text\n",
    "def clean_text(text, lemma = True):\n",
    "    # lowercase\n",
    "    text = text.lower()\n",
    "            \n",
    "    # URL removal\n",
    "    url = re.compile(r'https?://\\S+|www\\.\\S+')\n",
    "    text = url.sub(r'', text)\n",
    "    \n",
    "    # replace accented characters\n",
    "    text = unicodedata.normalize('NFKD', text).encode('ascii', 'ignore').decode('utf-8', 'ignore')\n",
    "    \n",
    "    # remove HTML tags\n",
    "    soup = BeautifulSoup(text, \"html.parser\")\n",
    "    text = soup.get_text()\n",
    "    \n",
    "    # remove special characters\n",
    "    text = re.sub('[^a-zA-Z\\s]', '', text)\n",
    "    \n",
    "    # emoji removal\n",
    "    emoji_pattern = re.compile(\"[\"\n",
    "        u\"\\U0001F600-\\U0001F64F\"  # emoticons\n",
    "        u\"\\U0001F300-\\U0001F5FF\"  # symbols & pictographs\n",
    "        u\"\\U0001F680-\\U0001F6FF\"  # transport & map symbols\n",
    "        u\"\\U0001F1E0-\\U0001F1FF\"  # flags\n",
    "        u\"\\U00002702-\\U000027B0\"\n",
    "        u\"\\U000024C2-\\U0001F251\"\n",
    "        \"]+\", flags=re.UNICODE)\n",
    "    text = emoji_pattern.sub(r'', text)\n",
    "    \n",
    "    # split text to remove stopwords and lemmatize the text\n",
    "    text = text.split()\n",
    "\n",
    "    # remove stopwords\n",
    "    stopwords_list = set(stopwords.words(\"english\"))\n",
    "    stopwords_list.remove('not')\n",
    "    stopwords_list.remove('no')\n",
    "    stopwords_list.remove(\"wasn't\")\n",
    "    text = [word for word in text if word not in stopwords_list]\n",
    "    \n",
    "    # lemmatizing\n",
    "    lemmatizer = WordNetLemmatizer()\n",
    "    ps = PorterStemmer()\n",
    "\n",
    "    if lemma:\n",
    "        text = [lemmatizer.lemmatize(word) for word in text]\n",
    "        text = [lemmatizer.lemmatize(word, \"v\") for word in text]\n",
    "    else:\n",
    "        text = [ps.stem(word) for word in text]\n",
    "        \n",
    "    return ' '.join(text)\n"
   ]
  },
  {
   "cell_type": "code",
   "execution_count": 6,
   "id": "c8f22e92",
   "metadata": {},
   "outputs": [
    {
     "data": {
      "text/html": [
       "<div>\n",
       "<style scoped>\n",
       "    .dataframe tbody tr th:only-of-type {\n",
       "        vertical-align: middle;\n",
       "    }\n",
       "\n",
       "    .dataframe tbody tr th {\n",
       "        vertical-align: top;\n",
       "    }\n",
       "\n",
       "    .dataframe thead th {\n",
       "        text-align: right;\n",
       "    }\n",
       "</style>\n",
       "<table border=\"1\" class=\"dataframe\">\n",
       "  <thead>\n",
       "    <tr style=\"text-align: right;\">\n",
       "      <th></th>\n",
       "      <th>Review</th>\n",
       "      <th>Liked</th>\n",
       "      <th>Processed Review</th>\n",
       "    </tr>\n",
       "  </thead>\n",
       "  <tbody>\n",
       "    <tr>\n",
       "      <th>0</th>\n",
       "      <td>Wow... Loved this place.</td>\n",
       "      <td>1</td>\n",
       "      <td>wow love place</td>\n",
       "    </tr>\n",
       "    <tr>\n",
       "      <th>1</th>\n",
       "      <td>Crust is not good.</td>\n",
       "      <td>0</td>\n",
       "      <td>crust not good</td>\n",
       "    </tr>\n",
       "    <tr>\n",
       "      <th>2</th>\n",
       "      <td>Not tasty and the texture was just nasty.</td>\n",
       "      <td>0</td>\n",
       "      <td>not tasty texture nasty</td>\n",
       "    </tr>\n",
       "    <tr>\n",
       "      <th>3</th>\n",
       "      <td>Stopped by during the late May bank holiday off Rick Steve recommendation and loved it.</td>\n",
       "      <td>1</td>\n",
       "      <td>stop late may bank holiday rick steve recommendation love</td>\n",
       "    </tr>\n",
       "    <tr>\n",
       "      <th>4</th>\n",
       "      <td>The selection on the menu was great and so were the prices.</td>\n",
       "      <td>1</td>\n",
       "      <td>selection menu great price</td>\n",
       "    </tr>\n",
       "    <tr>\n",
       "      <th>5</th>\n",
       "      <td>Now I am getting angry and I want my damn pho.</td>\n",
       "      <td>0</td>\n",
       "      <td>get angry want damn pho</td>\n",
       "    </tr>\n",
       "    <tr>\n",
       "      <th>6</th>\n",
       "      <td>Honeslty it didn't taste THAT fresh.)</td>\n",
       "      <td>0</td>\n",
       "      <td>honeslty didnt taste fresh</td>\n",
       "    </tr>\n",
       "    <tr>\n",
       "      <th>7</th>\n",
       "      <td>The potatoes were like rubber and you could tell they had been made up ahead of time being kept under a warmer.</td>\n",
       "      <td>0</td>\n",
       "      <td>potato like rubber could tell make ahead time keep warmer</td>\n",
       "    </tr>\n",
       "    <tr>\n",
       "      <th>8</th>\n",
       "      <td>The fries were great too.</td>\n",
       "      <td>1</td>\n",
       "      <td>fry great</td>\n",
       "    </tr>\n",
       "    <tr>\n",
       "      <th>9</th>\n",
       "      <td>A great touch.</td>\n",
       "      <td>1</td>\n",
       "      <td>great touch</td>\n",
       "    </tr>\n",
       "    <tr>\n",
       "      <th>10</th>\n",
       "      <td>Service was very prompt.</td>\n",
       "      <td>1</td>\n",
       "      <td>service prompt</td>\n",
       "    </tr>\n",
       "    <tr>\n",
       "      <th>11</th>\n",
       "      <td>Would not go back.</td>\n",
       "      <td>0</td>\n",
       "      <td>would not go back</td>\n",
       "    </tr>\n",
       "    <tr>\n",
       "      <th>12</th>\n",
       "      <td>The cashier had no care what so ever on what I had to say it still ended up being wayyy overpriced.</td>\n",
       "      <td>0</td>\n",
       "      <td>cashier no care ever say still end wayyy overprice</td>\n",
       "    </tr>\n",
       "    <tr>\n",
       "      <th>13</th>\n",
       "      <td>I tried the Cape Cod ravoli, chicken, with cranberry...mmmm!</td>\n",
       "      <td>1</td>\n",
       "      <td>try cape cod ravoli chicken cranberrymmmm</td>\n",
       "    </tr>\n",
       "    <tr>\n",
       "      <th>14</th>\n",
       "      <td>I was disgusted because I was pretty sure that was human hair.</td>\n",
       "      <td>0</td>\n",
       "      <td>disgust pretty sure human hair</td>\n",
       "    </tr>\n",
       "    <tr>\n",
       "      <th>15</th>\n",
       "      <td>I was shocked because no signs indicate cash only.</td>\n",
       "      <td>0</td>\n",
       "      <td>shock no sign indicate cash</td>\n",
       "    </tr>\n",
       "    <tr>\n",
       "      <th>16</th>\n",
       "      <td>Highly recommended.</td>\n",
       "      <td>1</td>\n",
       "      <td>highly recommend</td>\n",
       "    </tr>\n",
       "    <tr>\n",
       "      <th>17</th>\n",
       "      <td>Waitress was a little slow in service.</td>\n",
       "      <td>0</td>\n",
       "      <td>waitress little slow service</td>\n",
       "    </tr>\n",
       "    <tr>\n",
       "      <th>18</th>\n",
       "      <td>This place is not worth your time, let alone Vegas.</td>\n",
       "      <td>0</td>\n",
       "      <td>place not worth time let alone vega</td>\n",
       "    </tr>\n",
       "    <tr>\n",
       "      <th>19</th>\n",
       "      <td>did not like at all.</td>\n",
       "      <td>0</td>\n",
       "      <td>not like</td>\n",
       "    </tr>\n",
       "  </tbody>\n",
       "</table>\n",
       "</div>"
      ],
      "text/plain": [
       "                                                                                                             Review  \\\n",
       "0                                                                                          Wow... Loved this place.   \n",
       "1                                                                                                Crust is not good.   \n",
       "2                                                                         Not tasty and the texture was just nasty.   \n",
       "3                           Stopped by during the late May bank holiday off Rick Steve recommendation and loved it.   \n",
       "4                                                       The selection on the menu was great and so were the prices.   \n",
       "5                                                                    Now I am getting angry and I want my damn pho.   \n",
       "6                                                                             Honeslty it didn't taste THAT fresh.)   \n",
       "7   The potatoes were like rubber and you could tell they had been made up ahead of time being kept under a warmer.   \n",
       "8                                                                                         The fries were great too.   \n",
       "9                                                                                                    A great touch.   \n",
       "10                                                                                         Service was very prompt.   \n",
       "11                                                                                               Would not go back.   \n",
       "12              The cashier had no care what so ever on what I had to say it still ended up being wayyy overpriced.   \n",
       "13                                                     I tried the Cape Cod ravoli, chicken, with cranberry...mmmm!   \n",
       "14                                                   I was disgusted because I was pretty sure that was human hair.   \n",
       "15                                                               I was shocked because no signs indicate cash only.   \n",
       "16                                                                                              Highly recommended.   \n",
       "17                                                                           Waitress was a little slow in service.   \n",
       "18                                                              This place is not worth your time, let alone Vegas.   \n",
       "19                                                                                             did not like at all.   \n",
       "\n",
       "    Liked                                           Processed Review  \n",
       "0       1                                             wow love place  \n",
       "1       0                                             crust not good  \n",
       "2       0                                    not tasty texture nasty  \n",
       "3       1  stop late may bank holiday rick steve recommendation love  \n",
       "4       1                                 selection menu great price  \n",
       "5       0                                    get angry want damn pho  \n",
       "6       0                                 honeslty didnt taste fresh  \n",
       "7       0  potato like rubber could tell make ahead time keep warmer  \n",
       "8       1                                                  fry great  \n",
       "9       1                                                great touch  \n",
       "10      1                                             service prompt  \n",
       "11      0                                          would not go back  \n",
       "12      0         cashier no care ever say still end wayyy overprice  \n",
       "13      1                  try cape cod ravoli chicken cranberrymmmm  \n",
       "14      0                             disgust pretty sure human hair  \n",
       "15      0                                shock no sign indicate cash  \n",
       "16      1                                           highly recommend  \n",
       "17      0                               waitress little slow service  \n",
       "18      0                        place not worth time let alone vega  \n",
       "19      0                                                   not like  "
      ]
     },
     "execution_count": 6,
     "metadata": {},
     "output_type": "execute_result"
    }
   ],
   "source": [
    "df_ = df.copy()\n",
    "df_['Processed Review'] = df_['Review'].apply(lambda x : clean_text(x))\n",
    "df_.head(20)"
   ]
  },
  {
   "cell_type": "code",
   "execution_count": 7,
   "id": "de105fe7",
   "metadata": {},
   "outputs": [],
   "source": [
    "# interchanging the columns of the df\n",
    "\n",
    "columns_titles = [\"Review\",\"Processed Review\",\"Liked\"]\n",
    "df = df_[columns_titles]"
   ]
  },
  {
   "cell_type": "code",
   "execution_count": 8,
   "id": "3857d923",
   "metadata": {},
   "outputs": [
    {
     "data": {
      "text/html": [
       "<div>\n",
       "<style scoped>\n",
       "    .dataframe tbody tr th:only-of-type {\n",
       "        vertical-align: middle;\n",
       "    }\n",
       "\n",
       "    .dataframe tbody tr th {\n",
       "        vertical-align: top;\n",
       "    }\n",
       "\n",
       "    .dataframe thead th {\n",
       "        text-align: right;\n",
       "    }\n",
       "</style>\n",
       "<table border=\"1\" class=\"dataframe\">\n",
       "  <thead>\n",
       "    <tr style=\"text-align: right;\">\n",
       "      <th></th>\n",
       "      <th>Review</th>\n",
       "      <th>Processed Review</th>\n",
       "      <th>Liked</th>\n",
       "    </tr>\n",
       "  </thead>\n",
       "  <tbody>\n",
       "    <tr>\n",
       "      <th>0</th>\n",
       "      <td>Wow... Loved this place.</td>\n",
       "      <td>wow love place</td>\n",
       "      <td>1</td>\n",
       "    </tr>\n",
       "    <tr>\n",
       "      <th>1</th>\n",
       "      <td>Crust is not good.</td>\n",
       "      <td>crust not good</td>\n",
       "      <td>0</td>\n",
       "    </tr>\n",
       "    <tr>\n",
       "      <th>2</th>\n",
       "      <td>Not tasty and the texture was just nasty.</td>\n",
       "      <td>not tasty texture nasty</td>\n",
       "      <td>0</td>\n",
       "    </tr>\n",
       "    <tr>\n",
       "      <th>3</th>\n",
       "      <td>Stopped by during the late May bank holiday off Rick Steve recommendation and loved it.</td>\n",
       "      <td>stop late may bank holiday rick steve recommendation love</td>\n",
       "      <td>1</td>\n",
       "    </tr>\n",
       "    <tr>\n",
       "      <th>4</th>\n",
       "      <td>The selection on the menu was great and so were the prices.</td>\n",
       "      <td>selection menu great price</td>\n",
       "      <td>1</td>\n",
       "    </tr>\n",
       "  </tbody>\n",
       "</table>\n",
       "</div>"
      ],
      "text/plain": [
       "                                                                                    Review  \\\n",
       "0                                                                 Wow... Loved this place.   \n",
       "1                                                                       Crust is not good.   \n",
       "2                                                Not tasty and the texture was just nasty.   \n",
       "3  Stopped by during the late May bank holiday off Rick Steve recommendation and loved it.   \n",
       "4                              The selection on the menu was great and so were the prices.   \n",
       "\n",
       "                                            Processed Review  Liked  \n",
       "0                                             wow love place      1  \n",
       "1                                             crust not good      0  \n",
       "2                                    not tasty texture nasty      0  \n",
       "3  stop late may bank holiday rick steve recommendation love      1  \n",
       "4                                 selection menu great price      1  "
      ]
     },
     "execution_count": 8,
     "metadata": {},
     "output_type": "execute_result"
    }
   ],
   "source": [
    "df.head()"
   ]
  },
  {
   "cell_type": "code",
   "execution_count": 9,
   "id": "da913134",
   "metadata": {},
   "outputs": [
    {
     "name": "stdout",
     "output_type": "stream",
     "text": [
      "(1000,)\n",
      "(1000,)\n"
     ]
    }
   ],
   "source": [
    "X = df['Processed Review']\n",
    "y = df.Liked\n",
    "print(X.shape)\n",
    "print(y.shape)"
   ]
  },
  {
   "cell_type": "markdown",
   "id": "8fb882cc",
   "metadata": {},
   "source": [
    "# EDA"
   ]
  },
  {
   "cell_type": "markdown",
   "id": "9fc3dc9f",
   "metadata": {},
   "source": [
    "In this section we will perform exploratory data analysis on the text to determine the average lenght of the text and unique words, etc."
   ]
  },
  {
   "cell_type": "code",
   "execution_count": 10,
   "id": "73d58def",
   "metadata": {},
   "outputs": [
    {
     "name": "stdout",
     "output_type": "stream",
     "text": [
      "The total words in the tweets are        :  5765\n",
      "The total UNIQUE words in the tweets are :  1638\n"
     ]
    }
   ],
   "source": [
    "# finding unique words\n",
    "total_words = []\n",
    "for i in X:\n",
    "    for j in i.split():\n",
    "        total_words.append(j)\n",
    "unique, counts = np.unique(total_words, return_counts=True)\n",
    "print(\"The total words in the tweets are        : \", len(total_words))\n",
    "print(\"The total UNIQUE words in the tweets are : \", len(unique))"
   ]
  },
  {
   "cell_type": "code",
   "execution_count": 11,
   "id": "293c9f60",
   "metadata": {},
   "outputs": [
    {
     "name": "stdout",
     "output_type": "stream",
     "text": [
      "The Average Length of review is :  5.765\n",
      "The max length of review is     :  20\n",
      "The min length of review is     :  1\n"
     ]
    }
   ],
   "source": [
    "# finding length of text\n",
    "text_length = []\n",
    "for i in X:\n",
    "    text_length.append(len(i.split()))\n",
    "print(\"The Average Length of review is : \",np.mean(text_length))\n",
    "print(\"The max length of review is     : \", np.max(text_length))\n",
    "print(\"The min length of review is     : \", np.min(text_length))"
   ]
  },
  {
   "cell_type": "code",
   "execution_count": 12,
   "id": "9ccca784",
   "metadata": {},
   "outputs": [
    {
     "data": {
      "text/html": [
       "<div>\n",
       "<style scoped>\n",
       "    .dataframe tbody tr th:only-of-type {\n",
       "        vertical-align: middle;\n",
       "    }\n",
       "\n",
       "    .dataframe tbody tr th {\n",
       "        vertical-align: top;\n",
       "    }\n",
       "\n",
       "    .dataframe thead th {\n",
       "        text-align: right;\n",
       "    }\n",
       "</style>\n",
       "<table border=\"1\" class=\"dataframe\">\n",
       "  <thead>\n",
       "    <tr style=\"text-align: right;\">\n",
       "      <th></th>\n",
       "      <th>0</th>\n",
       "    </tr>\n",
       "  </thead>\n",
       "  <tbody>\n",
       "    <tr>\n",
       "      <th>count</th>\n",
       "      <td>1000.000000</td>\n",
       "    </tr>\n",
       "    <tr>\n",
       "      <th>mean</th>\n",
       "      <td>5.765000</td>\n",
       "    </tr>\n",
       "    <tr>\n",
       "      <th>std</th>\n",
       "      <td>3.239795</td>\n",
       "    </tr>\n",
       "    <tr>\n",
       "      <th>min</th>\n",
       "      <td>1.000000</td>\n",
       "    </tr>\n",
       "    <tr>\n",
       "      <th>25%</th>\n",
       "      <td>3.000000</td>\n",
       "    </tr>\n",
       "    <tr>\n",
       "      <th>50%</th>\n",
       "      <td>5.000000</td>\n",
       "    </tr>\n",
       "    <tr>\n",
       "      <th>75%</th>\n",
       "      <td>8.000000</td>\n",
       "    </tr>\n",
       "    <tr>\n",
       "      <th>max</th>\n",
       "      <td>20.000000</td>\n",
       "    </tr>\n",
       "  </tbody>\n",
       "</table>\n",
       "</div>"
      ],
      "text/plain": [
       "                 0\n",
       "count  1000.000000\n",
       "mean      5.765000\n",
       "std       3.239795\n",
       "min       1.000000\n",
       "25%       3.000000\n",
       "50%       5.000000\n",
       "75%       8.000000\n",
       "max      20.000000"
      ]
     },
     "execution_count": 12,
     "metadata": {},
     "output_type": "execute_result"
    }
   ],
   "source": [
    "len_df = pd.DataFrame(text_length)\n",
    "len_df.describe()"
   ]
  },
  {
   "cell_type": "code",
   "execution_count": 13,
   "id": "e71c1bef",
   "metadata": {},
   "outputs": [
    {
     "data": {
      "text/plain": [
       "<AxesSubplot:title={'center':'Distribution of Likes per Review'}, ylabel='Liked'>"
      ]
     },
     "execution_count": 13,
     "metadata": {},
     "output_type": "execute_result"
    },
    {
     "data": {
      "image/png": "[encoded data removed]",
      "text/plain": [
       "<Figure size 288x288 with 1 Axes>"
      ]
     },
     "metadata": {},
     "output_type": "display_data"
    }
   ],
   "source": [
    "# checking the distribution of Likes\n",
    "df['Liked'].value_counts().plot.pie(figsize=(4,4),\n",
    "                                    title=\"Distribution of Likes per Review\",\n",
    "                                    labels=['',''],\n",
    "                                    autopct='%1.1f%%')"
   ]
  },
  {
   "cell_type": "code",
   "execution_count": 14,
   "id": "19952fa0",
   "metadata": {},
   "outputs": [
    {
     "data": {
      "text/plain": [
       "(-0.5, 399.5, 199.5, -0.5)"
      ]
     },
     "execution_count": 14,
     "metadata": {},
     "output_type": "execute_result"
    },
    {
     "data": {
      "image/png": "[encoded data removed]",
      "text/plain": [
       "<Figure size 432x288 with 1 Axes>"
      ]
     },
     "metadata": {
      "needs_background": "light"
     },
     "output_type": "display_data"
    }
   ],
   "source": [
    "# Creating Word Cloud\n",
    "string = \" \".join(line.split()[0] for line in df[\"Processed Review\"]) \n",
    "word_cloud = WordCloud(collocations = False, background_color = 'white').generate(string)\n",
    "plt.imshow(word_cloud, interpolation='bilinear')\n",
    "plt.axis(\"off\")"
   ]
  },
  {
   "cell_type": "markdown",
   "id": "02796e1f",
   "metadata": {},
   "source": [
    "We can see from the wordcloud that the mostly used words are food, service,love, place, dont great, good, etc.\n",
    "\n",
    "Now we will get a list of the most common words"
   ]
  },
  {
   "cell_type": "code",
   "execution_count": 15,
   "id": "60dbea7f",
   "metadata": {},
   "outputs": [
    {
     "data": {
      "text/html": [
       "<div>\n",
       "<style scoped>\n",
       "    .dataframe tbody tr th:only-of-type {\n",
       "        vertical-align: middle;\n",
       "    }\n",
       "\n",
       "    .dataframe tbody tr th {\n",
       "        vertical-align: top;\n",
       "    }\n",
       "\n",
       "    .dataframe thead th {\n",
       "        text-align: right;\n",
       "    }\n",
       "</style>\n",
       "<table border=\"1\" class=\"dataframe\">\n",
       "  <thead>\n",
       "    <tr style=\"text-align: right;\">\n",
       "      <th></th>\n",
       "      <th>Review</th>\n",
       "      <th>Processed Review</th>\n",
       "      <th>Liked</th>\n",
       "    </tr>\n",
       "  </thead>\n",
       "  <tbody>\n",
       "    <tr>\n",
       "      <th>0</th>\n",
       "      <td>Wow... Loved this place.</td>\n",
       "      <td>wow love place</td>\n",
       "      <td>1</td>\n",
       "    </tr>\n",
       "    <tr>\n",
       "      <th>1</th>\n",
       "      <td>Crust is not good.</td>\n",
       "      <td>crust not good</td>\n",
       "      <td>0</td>\n",
       "    </tr>\n",
       "    <tr>\n",
       "      <th>2</th>\n",
       "      <td>Not tasty and the texture was just nasty.</td>\n",
       "      <td>not tasty texture nasty</td>\n",
       "      <td>0</td>\n",
       "    </tr>\n",
       "    <tr>\n",
       "      <th>3</th>\n",
       "      <td>Stopped by during the late May bank holiday off Rick Steve recommendation and loved it.</td>\n",
       "      <td>stop late may bank holiday rick steve recommendation love</td>\n",
       "      <td>1</td>\n",
       "    </tr>\n",
       "    <tr>\n",
       "      <th>4</th>\n",
       "      <td>The selection on the menu was great and so were the prices.</td>\n",
       "      <td>selection menu great price</td>\n",
       "      <td>1</td>\n",
       "    </tr>\n",
       "  </tbody>\n",
       "</table>\n",
       "</div>"
      ],
      "text/plain": [
       "                                                                                    Review  \\\n",
       "0                                                                 Wow... Loved this place.   \n",
       "1                                                                       Crust is not good.   \n",
       "2                                                Not tasty and the texture was just nasty.   \n",
       "3  Stopped by during the late May bank holiday off Rick Steve recommendation and loved it.   \n",
       "4                              The selection on the menu was great and so were the prices.   \n",
       "\n",
       "                                            Processed Review  Liked  \n",
       "0                                             wow love place      1  \n",
       "1                                             crust not good      0  \n",
       "2                                    not tasty texture nasty      0  \n",
       "3  stop late may bank holiday rick steve recommendation love      1  \n",
       "4                                 selection menu great price      1  "
      ]
     },
     "execution_count": 15,
     "metadata": {},
     "output_type": "execute_result"
    }
   ],
   "source": [
    "df.head()"
   ]
  },
  {
   "cell_type": "code",
   "execution_count": 16,
   "id": "df32f5b3",
   "metadata": {},
   "outputs": [
    {
     "data": {
      "text/html": [
       "<style  type=\"text/css\" >\n",
       "#T_0cb6b_row0_col1{\n",
       "            background-color:  #08306b;\n",
       "            color:  #f1f1f1;\n",
       "        }#T_0cb6b_row1_col1{\n",
       "            background-color:  #08488e;\n",
       "            color:  #f1f1f1;\n",
       "        }#T_0cb6b_row2_col1{\n",
       "            background-color:  #0a539e;\n",
       "            color:  #f1f1f1;\n",
       "        }#T_0cb6b_row3_col1{\n",
       "            background-color:  #3181bd;\n",
       "            color:  #000000;\n",
       "        }#T_0cb6b_row4_col1{\n",
       "            background-color:  #529dcc;\n",
       "            color:  #000000;\n",
       "        }#T_0cb6b_row5_col1{\n",
       "            background-color:  #6dafd7;\n",
       "            color:  #000000;\n",
       "        }#T_0cb6b_row6_col1{\n",
       "            background-color:  #87bddc;\n",
       "            color:  #000000;\n",
       "        }#T_0cb6b_row7_col1{\n",
       "            background-color:  #a9cfe5;\n",
       "            color:  #000000;\n",
       "        }#T_0cb6b_row8_col1{\n",
       "            background-color:  #bdd7ec;\n",
       "            color:  #000000;\n",
       "        }#T_0cb6b_row9_col1{\n",
       "            background-color:  #c9ddf0;\n",
       "            color:  #000000;\n",
       "        }#T_0cb6b_row10_col1{\n",
       "            background-color:  #d0e2f2;\n",
       "            color:  #000000;\n",
       "        }#T_0cb6b_row11_col1{\n",
       "            background-color:  #dceaf6;\n",
       "            color:  #000000;\n",
       "        }#T_0cb6b_row12_col1{\n",
       "            background-color:  #e7f0fa;\n",
       "            color:  #000000;\n",
       "        }#T_0cb6b_row13_col1{\n",
       "            background-color:  #ebf3fb;\n",
       "            color:  #000000;\n",
       "        }#T_0cb6b_row14_col1{\n",
       "            background-color:  #f2f7fd;\n",
       "            color:  #000000;\n",
       "        }#T_0cb6b_row15_col1{\n",
       "            background-color:  #f3f8fe;\n",
       "            color:  #000000;\n",
       "        }#T_0cb6b_row16_col1{\n",
       "            background-color:  #f5fafe;\n",
       "            color:  #000000;\n",
       "        }#T_0cb6b_row17_col1,#T_0cb6b_row18_col1,#T_0cb6b_row19_col1{\n",
       "            background-color:  #f7fbff;\n",
       "            color:  #000000;\n",
       "        }</style><table id=\"T_0cb6b_\" ><thead>    <tr>        <th class=\"blank level0\" ></th>        <th class=\"col_heading level0 col0\" >Common_words</th>        <th class=\"col_heading level0 col1\" >Count</th>    </tr></thead><tbody>\n",
       "                <tr>\n",
       "                        <th id=\"T_0cb6b_level0_row0\" class=\"row_heading level0 row0\" >0</th>\n",
       "                        <td id=\"T_0cb6b_row0_col0\" class=\"data row0 col0\" >food</td>\n",
       "                        <td id=\"T_0cb6b_row0_col1\" class=\"data row0 col1\" >125</td>\n",
       "            </tr>\n",
       "            <tr>\n",
       "                        <th id=\"T_0cb6b_level0_row1\" class=\"row_heading level0 row1\" >1</th>\n",
       "                        <td id=\"T_0cb6b_row1_col0\" class=\"data row1 col0\" >not</td>\n",
       "                        <td id=\"T_0cb6b_row1_col1\" class=\"data row1 col1\" >116</td>\n",
       "            </tr>\n",
       "            <tr>\n",
       "                        <th id=\"T_0cb6b_level0_row2\" class=\"row_heading level0 row2\" >2</th>\n",
       "                        <td id=\"T_0cb6b_row2_col0\" class=\"data row2 col0\" >place</td>\n",
       "                        <td id=\"T_0cb6b_row2_col1\" class=\"data row2 col1\" >112</td>\n",
       "            </tr>\n",
       "            <tr>\n",
       "                        <th id=\"T_0cb6b_level0_row3\" class=\"row_heading level0 row3\" >3</th>\n",
       "                        <td id=\"T_0cb6b_row3_col0\" class=\"data row3 col0\" >good</td>\n",
       "                        <td id=\"T_0cb6b_row3_col1\" class=\"data row3 col1\" >95</td>\n",
       "            </tr>\n",
       "            <tr>\n",
       "                        <th id=\"T_0cb6b_level0_row4\" class=\"row_heading level0 row4\" >4</th>\n",
       "                        <td id=\"T_0cb6b_row4_col0\" class=\"data row4 col0\" >service</td>\n",
       "                        <td id=\"T_0cb6b_row4_col1\" class=\"data row4 col1\" >84</td>\n",
       "            </tr>\n",
       "            <tr>\n",
       "                        <th id=\"T_0cb6b_level0_row5\" class=\"row_heading level0 row5\" >5</th>\n",
       "                        <td id=\"T_0cb6b_row5_col0\" class=\"data row5 col0\" >go</td>\n",
       "                        <td id=\"T_0cb6b_row5_col1\" class=\"data row5 col1\" >76</td>\n",
       "            </tr>\n",
       "            <tr>\n",
       "                        <th id=\"T_0cb6b_level0_row6\" class=\"row_heading level0 row6\" >6</th>\n",
       "                        <td id=\"T_0cb6b_row6_col0\" class=\"data row6 col0\" >great</td>\n",
       "                        <td id=\"T_0cb6b_row6_col1\" class=\"data row6 col1\" >70</td>\n",
       "            </tr>\n",
       "            <tr>\n",
       "                        <th id=\"T_0cb6b_level0_row7\" class=\"row_heading level0 row7\" >7</th>\n",
       "                        <td id=\"T_0cb6b_row7_col0\" class=\"data row7 col0\" >back</td>\n",
       "                        <td id=\"T_0cb6b_row7_col1\" class=\"data row7 col1\" >61</td>\n",
       "            </tr>\n",
       "            <tr>\n",
       "                        <th id=\"T_0cb6b_level0_row8\" class=\"row_heading level0 row8\" >8</th>\n",
       "                        <td id=\"T_0cb6b_row8_col0\" class=\"data row8 col0\" >time</td>\n",
       "                        <td id=\"T_0cb6b_row8_col1\" class=\"data row8 col1\" >55</td>\n",
       "            </tr>\n",
       "            <tr>\n",
       "                        <th id=\"T_0cb6b_level0_row9\" class=\"row_heading level0 row9\" >9</th>\n",
       "                        <td id=\"T_0cb6b_row9_col0\" class=\"data row9 col0\" >like</td>\n",
       "                        <td id=\"T_0cb6b_row9_col1\" class=\"data row9 col1\" >51</td>\n",
       "            </tr>\n",
       "            <tr>\n",
       "                        <th id=\"T_0cb6b_level0_row10\" class=\"row_heading level0 row10\" >10</th>\n",
       "                        <td id=\"T_0cb6b_row10_col0\" class=\"data row10 col0\" >get</td>\n",
       "                        <td id=\"T_0cb6b_row10_col1\" class=\"data row10 col1\" >47</td>\n",
       "            </tr>\n",
       "            <tr>\n",
       "                        <th id=\"T_0cb6b_level0_row11\" class=\"row_heading level0 row11\" >11</th>\n",
       "                        <td id=\"T_0cb6b_row11_col0\" class=\"data row11 col0\" >come</td>\n",
       "                        <td id=\"T_0cb6b_row11_col1\" class=\"data row11 col1\" >41</td>\n",
       "            </tr>\n",
       "            <tr>\n",
       "                        <th id=\"T_0cb6b_level0_row12\" class=\"row_heading level0 row12\" >12</th>\n",
       "                        <td id=\"T_0cb6b_row12_col0\" class=\"data row12 col0\" >really</td>\n",
       "                        <td id=\"T_0cb6b_row12_col1\" class=\"data row12 col1\" >36</td>\n",
       "            </tr>\n",
       "            <tr>\n",
       "                        <th id=\"T_0cb6b_level0_row13\" class=\"row_heading level0 row13\" >13</th>\n",
       "                        <td id=\"T_0cb6b_row13_col0\" class=\"data row13 col0\" >eat</td>\n",
       "                        <td id=\"T_0cb6b_row13_col1\" class=\"data row13 col1\" >34</td>\n",
       "            </tr>\n",
       "            <tr>\n",
       "                        <th id=\"T_0cb6b_level0_row14\" class=\"row_heading level0 row14\" >14</th>\n",
       "                        <td id=\"T_0cb6b_row14_col0\" class=\"data row14 col0\" >love</td>\n",
       "                        <td id=\"T_0cb6b_row14_col1\" class=\"data row14 col1\" >31</td>\n",
       "            </tr>\n",
       "            <tr>\n",
       "                        <th id=\"T_0cb6b_level0_row15\" class=\"row_heading level0 row15\" >15</th>\n",
       "                        <td id=\"T_0cb6b_row15_col0\" class=\"data row15 col0\" >best</td>\n",
       "                        <td id=\"T_0cb6b_row15_col1\" class=\"data row15 col1\" >30</td>\n",
       "            </tr>\n",
       "            <tr>\n",
       "                        <th id=\"T_0cb6b_level0_row16\" class=\"row_heading level0 row16\" >16</th>\n",
       "                        <td id=\"T_0cb6b_row16_col0\" class=\"data row16 col0\" >wait</td>\n",
       "                        <td id=\"T_0cb6b_row16_col1\" class=\"data row16 col1\" >29</td>\n",
       "            </tr>\n",
       "            <tr>\n",
       "                        <th id=\"T_0cb6b_level0_row17\" class=\"row_heading level0 row17\" >17</th>\n",
       "                        <td id=\"T_0cb6b_row17_col0\" class=\"data row17 col0\" >would</td>\n",
       "                        <td id=\"T_0cb6b_row17_col1\" class=\"data row17 col1\" >28</td>\n",
       "            </tr>\n",
       "            <tr>\n",
       "                        <th id=\"T_0cb6b_level0_row18\" class=\"row_heading level0 row18\" >18</th>\n",
       "                        <td id=\"T_0cb6b_row18_col0\" class=\"data row18 col0\" >ever</td>\n",
       "                        <td id=\"T_0cb6b_row18_col1\" class=\"data row18 col1\" >28</td>\n",
       "            </tr>\n",
       "            <tr>\n",
       "                        <th id=\"T_0cb6b_level0_row19\" class=\"row_heading level0 row19\" >19</th>\n",
       "                        <td id=\"T_0cb6b_row19_col0\" class=\"data row19 col0\" >restaurant</td>\n",
       "                        <td id=\"T_0cb6b_row19_col1\" class=\"data row19 col1\" >28</td>\n",
       "            </tr>\n",
       "    </tbody></table>"
      ],
      "text/plain": [
       "<pandas.io.formats.style.Styler at 0x7f86c41e1790>"
      ]
     },
     "execution_count": 16,
     "metadata": {},
     "output_type": "execute_result"
    }
   ],
   "source": [
    "# displaying the most common words and their counts\n",
    "top = Counter([j for i in df['Processed Review'] for j in i.split()])\n",
    "freq = pd.DataFrame(top.most_common(20))\n",
    "freq.columns = ['Common_words','Count']\n",
    "freq.style.background_gradient(cmap='Blues')"
   ]
  },
  {
   "cell_type": "code",
   "execution_count": 17,
   "id": "358bf83d",
   "metadata": {},
   "outputs": [
    {
     "data": {
      "image/png": "[encoded data removed]",
      "text/plain": [
       "<Figure size 720x432 with 1 Axes>"
      ]
     },
     "metadata": {
      "needs_background": "light"
     },
     "output_type": "display_data"
    }
   ],
   "source": [
    "# plotting the most common words in all reviews\n",
    "fig, ax = plt.subplots(figsize=(10, 6))\n",
    "sns.barplot(x='Common_words', y='Count', \n",
    "            data=freq, ax=ax)\n",
    "plt.title(\"Most Commmon Words in all tweets\")\n",
    "plt.xticks(rotation='vertical');"
   ]
  },
  {
   "cell_type": "markdown",
   "id": "bccee771",
   "metadata": {},
   "source": [
    "# Vectorization"
   ]
  },
  {
   "cell_type": "code",
   "execution_count": 18,
   "id": "5322a48b",
   "metadata": {},
   "outputs": [],
   "source": [
    "# Instanciating Vectorizer objects\n",
    "cv = CountVectorizer()\n",
    "tfidf = TfidfVectorizer()\n",
    "X1 = cv.fit_transform(X).toarray()\n",
    "X2 = tfidf.fit_transform(X).toarray()"
   ]
  },
  {
   "cell_type": "code",
   "execution_count": 19,
   "id": "b13773f9",
   "metadata": {},
   "outputs": [],
   "source": [
    "# Instanciating objects of models\n",
    "lr = LogisticRegression()\n",
    "nb = GaussianNB()\n",
    "svc = SVC(kernel = 'rbf', random_state = 0)\n",
    "rf = RandomForestClassifier(n_estimators=200)\n",
    "\n",
    "classifiers = [lr, nb, svc, rf]\n",
    "\n",
    "def give_score(model):\n",
    "    return accuracy_score(y_test,model.predict(X_test))\n"
   ]
  },
  {
   "cell_type": "markdown",
   "id": "d50e328f",
   "metadata": {
    "colab_type": "text",
    "id": "DH_VjgPzC2cd"
   },
   "source": [
    "# Model Training"
   ]
  },
  {
   "cell_type": "markdown",
   "id": "438c314c",
   "metadata": {},
   "source": [
    "## 1. Count Vectorizer"
   ]
  },
  {
   "cell_type": "code",
   "execution_count": 20,
   "id": "6bb71cdc",
   "metadata": {
    "colab": {},
    "colab_type": "code",
    "id": "qQXYM5VzDDDI"
   },
   "outputs": [
    {
     "name": "stdout",
     "output_type": "stream",
     "text": [
      "LogisticRegression()  :  0.835\n",
      "GaussianNB()  :  0.725\n",
      "SVC(random_state=0)  :  0.81\n",
      "RandomForestClassifier(n_estimators=200)  :  0.815\n"
     ]
    }
   ],
   "source": [
    "X_train, X_test, y_train, y_test = train_test_split(X1, y, test_size = 0.20, random_state = 0)\n",
    "\n",
    "for i in classifiers:\n",
    "    i.fit(X_train, y_train)\n",
    "    print(i, \" : \", give_score(i))\n"
   ]
  },
  {
   "cell_type": "code",
   "execution_count": 21,
   "id": "0f66f519",
   "metadata": {},
   "outputs": [
    {
     "data": {
      "image/png": "[encoded data removed]",
      "text/plain": [
       "<Figure size 576x576 with 8 Axes>"
      ]
     },
     "metadata": {
      "needs_background": "light"
     },
     "output_type": "display_data"
    }
   ],
   "source": [
    "# function to plot confusion matrices\n",
    "def printConfusionMatrix():\n",
    "    fig, axes = plt.subplots(nrows=2, ncols=2, figsize=(8,8))\n",
    "\n",
    "    for cls, ax in zip(classifiers, axes.flatten()):\n",
    "        plot_confusion_matrix(cls, X_test, y_test, ax=ax, cmap='Blues')\n",
    "        ax.title.set_text(type(cls).__name__)\n",
    "    plt.tight_layout()  \n",
    "    plt.show()\n",
    "\n",
    "printConfusionMatrix()"
   ]
  },
  {
   "cell_type": "markdown",
   "id": "2222be94",
   "metadata": {},
   "source": [
    "## 2. TFIDF Vectorizer"
   ]
  },
  {
   "cell_type": "code",
   "execution_count": 22,
   "id": "e8660982",
   "metadata": {
    "colab": {},
    "colab_type": "code",
    "id": "qQXYM5VzDDDI"
   },
   "outputs": [
    {
     "name": "stdout",
     "output_type": "stream",
     "text": [
      "LogisticRegression()  :  0.83\n",
      "GaussianNB()  :  0.72\n",
      "SVC(random_state=0)  :  0.825\n",
      "RandomForestClassifier(n_estimators=200)  :  0.795\n"
     ]
    }
   ],
   "source": [
    "X_train, X_test, y_train, y_test = train_test_split(X2, y, test_size = 0.20, random_state = 0)\n",
    "\n",
    "for i in classifiers:\n",
    "    i.fit(X_train, y_train)\n",
    "    print(i, \" : \", give_score(i))\n"
   ]
  },
  {
   "cell_type": "code",
   "execution_count": 23,
   "id": "a8255afc",
   "metadata": {},
   "outputs": [
    {
     "data": {
      "image/png": "[encoded data removed]",
      "text/plain": [
       "<Figure size 576x576 with 8 Axes>"
      ]
     },
     "metadata": {
      "needs_background": "light"
     },
     "output_type": "display_data"
    }
   ],
   "source": [
    "# function to plot confusion matrices\n",
    "def printConfusionMatrix():\n",
    "    fig, axes = plt.subplots(nrows=2, ncols=2, figsize=(8,8))\n",
    "\n",
    "    for cls, ax in zip(classifiers, axes.flatten()):\n",
    "        plot_confusion_matrix(cls, X_test, y_test, ax=ax, cmap='Blues')\n",
    "        ax.title.set_text(type(cls).__name__)\n",
    "    plt.tight_layout()  \n",
    "    plt.show()\n",
    "\n",
    "printConfusionMatrix()"
   ]
  },
  {
   "cell_type": "markdown",
   "id": "4e8679ae",
   "metadata": {},
   "source": [
    "# Conclusion and Results"
   ]
  },
  {
   "cell_type": "markdown",
   "id": "eca1559e",
   "metadata": {},
   "source": [
    "CountVectorizer outperforms the TFIDF slightly. Logistic Regression has the highest accuracy of 83.5% for CountVectorizer and 83% for TFIDF followed by Support Vector Classifier on TFIDF"
   ]
  },
  {
   "cell_type": "markdown",
   "id": "804626cd",
   "metadata": {},
   "source": [
    "The best accuracy of 83.5% is acheived by Logistic Regression on CountVectorizer"
   ]
  },
  {
   "cell_type": "markdown",
   "id": "2a2407fa",
   "metadata": {},
   "source": [
    "# Improvements and Future work\n",
    "\n",
    "1. Make Pipelines\n",
    "2. K-Fold Cross Validation\n",
    "3. GridSearchCV and RandomizedSearchCV\n",
    "4. Collect more data\n"
   ]
  }
 ],
 "metadata": {
  "kernelspec": {
   "display_name": "Python 3",
   "language": "python",
   "name": "python3"
  },
  "language_info": {
   "codemirror_mode": {
    "name": "ipython",
    "version": 3
   },
   "file_extension": ".py",
   "mimetype": "text/x-python",
   "name": "python",
   "nbconvert_exporter": "python",
   "pygments_lexer": "ipython3",
   "version": "3.8.8"
  }
 },
 "nbformat": 4,
 "nbformat_minor": 5
}
